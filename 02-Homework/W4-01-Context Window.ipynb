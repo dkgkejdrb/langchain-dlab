{
 "cells": [
  {
   "cell_type": "markdown",
   "metadata": {},
   "source": [
    "## 1️⃣. 주제 선정 (Solution의 목적)\n",
    "- **내가 만들 Context Window Design은 어떤 서비스/시스템을 위한 것인가?**\n",
    "    - 예: 초등학생을 위한 수학 문제 피드백 챗봇\n",
    "    - 예: 기업용 이메일 요약 및 액션 아이템 추출기\n",
    "- **해결하고자 하는 문제는 무엇인가?**\n",
    "\n",
    "---"
   ]
  },
  {
   "cell_type": "markdown",
   "metadata": {},
   "source": []
  },
  {
   "cell_type": "markdown",
   "metadata": {},
   "source": [
    "## 2️⃣. Context Window의 범위 정의\n",
    "- **사용할 GPT 모델과 context window 한계**  \n",
    "    - 예: GPT-4-turbo (128k tokens)  \n",
    "    - 예: GPT-3.5-turbo (16k tokens)\n",
    "- **프롬프트 토큰과 유저 입력 토큰 비율**  \n",
    "    - 예: 시스템 프롬프트 2,000 tokens + 유저 입력 5,000 tokens + 예상 출력 2,000 tokens\n",
    "\n",
    "---"
   ]
  },
  {
   "cell_type": "markdown",
   "metadata": {},
   "source": []
  },
  {
   "cell_type": "markdown",
   "metadata": {},
   "source": [
    "\n",
    "## 3️⃣. Context Window 내 프롬프트 구성 설계\n",
    "\n",
    "### 🟩 System Prompt\n",
    "- 역할 지정 및 행동 방침  \n",
    "    - 예: \"You are a supportive math tutor for elementary school students.\"\n",
    "\n",
    "### 🟨 Style & Tone Instruction\n",
    "- 어조 및 스타일  \n",
    "    - 예: \"Respond in a friendly and encouraging tone using vocabulary suitable for children.\"\n",
    "\n",
    "### 🟧 Behavior Instruction\n",
    "- 행동 지침  \n",
    "    - 예: \"Always include at least one compliment before pointing out mistakes.\"\n",
    "\n",
    "### 🟥 Restrictions\n",
    "- 제약 조건  \n",
    "    - 예: \"Never provide direct answers to math problems. Instead, guide the student towards the answer.\"\n",
    "\n",
    "### 🟦 Example Section\n",
    "- 프롬프트 안에 포함할 구체적인 예시  \n",
    "    - 예: [Example] 블록 활용\n",
    "\n",
    "---"
   ]
  },
  {
   "cell_type": "markdown",
   "metadata": {},
   "source": []
  }
 ],
 "metadata": {
  "language_info": {
   "name": "python"
  }
 },
 "nbformat": 4,
 "nbformat_minor": 2
}
