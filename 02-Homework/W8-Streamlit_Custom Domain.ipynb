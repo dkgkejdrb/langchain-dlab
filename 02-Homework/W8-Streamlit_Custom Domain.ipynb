{
 "cells": [
  {
   "cell_type": "markdown",
   "id": "3d80a0de",
   "metadata": {},
   "source": [
    "# 🧪 과제: 나만의 커스텀 도메인 LLM 체인을 Streamlit에 구현하기\n",
    "\n",
    "## 🎯 과제 목표\n",
    "\n",
    "**Streamlit을 활용하여** 여러분이 만들고 싶은 **커스텀 도메인 기반 LLM 웹앱의 초기 버전**을 직접 구현해봅시다.  \n",
    "LangChain 기반 체인과 간단한 유저 인터페이스(UI)를 결합해 실습합니다.\n",
    "\n",
    "## 📌 필수 구현 요소\n",
    "\n",
    "다음 항목을 **Streamlit + LangChain** 기반으로 반드시 구현해야 합니다:\n",
    "\n",
    "- `st.chat_input`, `st.chat_message` 등을 사용하여 **채팅 UI 구성**\n",
    "- LangChain을 사용해 **하나 이상의 체인을 정의**하고 실행\n",
    "- **분기 조건(if, RunnableBranch 등)**에 따라 다른 체인이 실행되도록 구현\n",
    "- `st.session_state`를 활용하여 **대화 이력 저장 및 출력**\n",
    "- Streamlit 사이드바 또는 버튼 등을 이용한 **기능 인터랙션 추가 (예: 초기화 버튼)**\n",
    "- **입력 예시 1~2개와 출력 결과 캡처 or 출력 예시 준비**\n",
    "\n",
    "## 📂 제출 파일\n",
    "\n",
    "- `main.py` (Streamlit 코드)\n",
    "\n",
    "## 🗣️ 발표 안내\n",
    "\n",
    "다음 수업 시간에 2~3분 내외로 **구현한 내용과 체인 흐름에 대해 발표**할 예정입니다.  \n",
    "발표 시 아래 내용을 포함해주세요:\n",
    "\n",
    "- 구현한 **커스텀 도메인** 소개 및 시스템 목적\n",
    "- 체인 구조 및 **분기 설계 방식** 설명\n",
    "- 실행 예시 및 결과 공유 (직접 시연 또는 결과 화면 캡처)\n",
    "\n",
    "## 💡 참고 및 힌트\n",
    "\n",
    "- `st.session_state`를 사용하여 **사용자 대화 기록을 유지**할 수 있습니다.\n",
    "- LangChain의 `ChatPromptTemplate`, `RunnableBranch`, `ChatMessage`, `invoke()` 등을 적극 활용해보세요.\n",
    "- 완성도보다는 **분기 설계와 체인 구성 능력**을 중점적으로 평가합니다.\n",
    "- 실습 시 다음 문서들을 참고해보세요:\n",
    "  - https://docs.streamlit.io/\n",
    "  - https://docs.langchain.com/\n"
   ]
  },
  {
   "cell_type": "code",
   "execution_count": null,
   "id": "a9ca4371",
   "metadata": {},
   "outputs": [],
   "source": [
    "# YOUR CODE"
   ]
  }
 ],
 "metadata": {
  "language_info": {
   "name": "python"
  }
 },
 "nbformat": 4,
 "nbformat_minor": 5
}
