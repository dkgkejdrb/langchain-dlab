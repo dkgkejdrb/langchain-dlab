{
 "cells": [
  {
   "cell_type": "markdown",
   "metadata": {},
   "source": [
    "# LangChain 연습문: 자율 주제\n",
    "\n",
    "## 🎯 목표  \n",
    "LangChain의 `PromptTemplate`, `ChatOpenAI`, `StrOutputParser`를 활용하여,  \n",
    "자신이 정한 주제에 맞는 GPT-4o 생성 체인을 만들어 실행해보세요.\n",
    "\n",
    "---\n",
    "\n",
    "## 1. 주제 정하기\n",
    "다음 중 하나를 선택하거나, 자유롭게 주제를 정해보세요.\n",
    "\n",
    "- (예시) 단편 소설 쓰기\n",
    "- (예시) 창업 아이디어 제안\n",
    "- (예시) 공부법 추천\n",
    "- (예시) 역사적 사건 요약\n",
    "- (예시) 고전 문학 인물 분석\n",
    "- (자율 주제) ___________________________________\n",
    "\n",
    "---\n",
    "\n",
    "## 2. 프롬프트 작성하기  \n",
    "아래 형식을 참고하여 PromptTemplate에 들어갈 문자열을 직접 설계하세요.\n",
    "\n",
    "```python\n",
    "template = \"\"\"\n",
    "[당신의 역할 또는 설정]\n",
    "\n",
    "{question}\n",
    "\n",
    "FORMAT:\n",
    "- _______________________________________\n",
    "\"\"\"\n"
   ]
  },
  {
   "cell_type": "code",
   "execution_count": null,
   "metadata": {},
   "outputs": [],
   "source": [
    "#YOUR CODE"
   ]
  }
 ],
 "metadata": {
  "language_info": {
   "name": "python"
  }
 },
 "nbformat": 4,
 "nbformat_minor": 2
}
