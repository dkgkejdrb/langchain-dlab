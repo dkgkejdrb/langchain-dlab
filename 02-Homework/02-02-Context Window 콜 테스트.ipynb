{
 "cells": [
  {
   "cell_type": "markdown",
   "metadata": {},
   "source": [
    "## Context Window 기반 질문 생성 및 GPT API 호출\n",
    "\n",
    "`langchain_openai` 패키지의 `ChatOpenAI` 클래스를 이용하여 GPT 모델을 호출하는 객체를 생성하세요.\n",
    "\n",
    "### 요구 사항:\n",
    "- `temperature`: `0.1`로 설정\n",
    "- `model_name`: `\"gpt-4o-mini\"` 사용\n",
    "- 질문 내용은 **여러분이 설계한 Context Window의 주제 및 목적에 적합한 질문**으로 작성할 것\n",
    "\n",
    "### 실행 내용:\n",
    "1. 아래와 같이 자신의 Context Window 주제에 맞는 질문을 자유롭게 작성하세요.  \n",
    "   예시:  \n",
    "   - Context가 \"초등학생 수학 피드백 챗봇\"이라면 →  \n",
    "     > \"3학년 학생에게 적합한 분수 개념 설명을 알려주세요.\"  \n",
    "   - Context가 \"이메일 요약 챗봇\"이라면 →  \n",
    "     > \"다음 이메일 내용을 요약해주세요: [이메일 내용]\"\n",
    "\n",
    "2. 작성한 질문을 GPT에게 보내고 응답을 출력하세요."
   ]
  },
  {
   "cell_type": "code",
   "execution_count": null,
   "metadata": {
    "vscode": {
     "languageId": "plaintext"
    }
   },
   "outputs": [],
   "source": [
    "# YOUR CODE"
   ]
  }
 ],
 "metadata": {
  "language_info": {
   "name": "python"
  }
 },
 "nbformat": 4,
 "nbformat_minor": 2
}
