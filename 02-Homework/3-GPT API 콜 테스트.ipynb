{
 "cells": [
  {
   "cell_type": "markdown",
   "metadata": {},
   "source": [
    "## GPT API 콜 테스트\n",
    "`langchain_openai` 패키지의 `ChatOpenAI` 클래스를 이용하여 GPT 모델을 호출하는 객체를 생성하세요.\n",
    "\n",
    "### 요구 사항:\n",
    "- `temperature`: `0.1`로 설정\n",
    "- `model_name`: `\"gpt-4o-mini\"` 사용\n",
    "\n",
    "### 실행 내용:\n",
    "모델에게 다음 질문을 하고 응답을 출력하세요.\n",
    "\n",
    "> 파이썬의 대표적인 웹 프레임워크는 무엇인가요?"
   ]
  },
  {
   "cell_type": "code",
   "execution_count": null,
   "metadata": {},
   "outputs": [],
   "source": [
    "# YOUR CODE"
   ]
  }
 ],
 "metadata": {
  "kernelspec": {
   "display_name": "langchain-dlab-Gk6qnrIK-py3.11",
   "language": "python",
   "name": "python3"
  },
  "language_info": {
   "name": "python",
   "version": "3.11.9"
  }
 },
 "nbformat": 4,
 "nbformat_minor": 2
}
