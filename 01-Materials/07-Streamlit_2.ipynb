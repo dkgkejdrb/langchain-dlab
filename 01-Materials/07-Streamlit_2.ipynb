{
 "cells": [
  {
   "cell_type": "markdown",
   "id": "4ec54020",
   "metadata": {},
   "source": [
    "## Streamlit을 이용한 타 학생 프로젝트 예시\n",
    "- 목적: EnageBot: to support international students in learning English and fostering social interaction.\n",
    "- 링크: https://youtu.be/PnumBfdbO-k\n",
    "\n",
    "---\n",
    "\n",
    "## Streamlit의 다양한 컴포넌트 활용해보기\n",
    "\n",
    "### 1. Selectbox\n",
    "- 링크: https://docs.streamlit.io/develop/api-reference/widgets/st.selectbox\n",
    "\n",
    "---\n",
    "\n",
    "다음과 같이 프롬프트 타입을 셀렉트 박스를 통해 선택할 수 있는 기능을 만들어 보자.\n",
    "\n",
    "✅ 추가 1: 사이드바에 prompt_type을 입력받는 selectbox(기본모드, SNS 게시글, 요약) 추가\n",
    "\n",
    "![](https://codetutorbot.blob.core.windows.net/image/st1.png)\n",
    "\n",
    "---\n",
    "\n",
    "✅ 추가 2: create_chain()에 prompt_type 매개 변수 추가\n",
    "\n",
    "✅ 추가 3: create_chain()에 prompt_type 선택 기능(기본모드, SNS 게시글, 요약) 추가\n",
    "\n",
    "![](https://codetutorbot.blob.core.windows.net/image/st2.png)\n",
    "\n",
    "---\n",
    "\n",
    "✅ 추가 4: create_chain()에 selected_prompt 추가\n",
    "\n",
    "![](https://codetutorbot.blob.core.windows.net/image/st3.png)"
   ]
  },
  {
   "cell_type": "markdown",
   "id": "ba38e8fb",
   "metadata": {},
   "source": [
    "### 2. 파일로부터 template 읽어오기\n",
    "\n",
    "prompt를 따로 분리하여 파일(.yaml)로 관리하면 프롬프트를 관리하기 편리하다.\n",
    "\n",
    "다음 순서에 따라 파일로부터 template을 읽어오는 기능을 추가해보자.\n",
    "\n",
    "---\n",
    "\n",
    "순서 1. 00-MyProject 경로에 'prompts'폴더를 생성한다.\n",
    "\n",
    "\n",
    "<파일 경로>\n",
    "\n",
    "+ 00-MyProject\n",
    "    - main.py\n",
    "    - prompts <= 새로 생성 \n",
    "\n",
    "---\n",
    "\n",
    "순서 2. 'prompts' 폴더 하위에 'sns.yaml'파일을 생성한다.\n",
    "\n",
    "<파일 경로>\n",
    "\n",
    "+ 00-MyProject\n",
    "    - main.py\n",
    "    - prompts\n",
    "        + sns.yaml <= 새로 생성 \n",
    "\n",
    "---\n",
    "\n",
    "순서 3. sns.yaml 파일에 다음과 같이 프롬프트 파일을 작성한다.\n",
    "\n",
    "![](https://codetutorbot.blob.core.windows.net/image/st4.png)"
   ]
  },
  {
   "cell_type": "markdown",
   "id": "5cf91129",
   "metadata": {},
   "source": [
    "---\n",
    "\n",
    "순서 4. 다음 코드는 외부 파일을 읽어 오는 라이브러리(langchain_teddynot.prompts)이다.\n",
    "\n",
    "다음 코드를 작성하여 파일로부터 프롬프트를 읽어오자.\n",
    "\n",
    "![](https://codetutorbot.blob.core.windows.net/image/st5.png)"
   ]
  },
  {
   "cell_type": "code",
   "execution_count": null,
   "id": "ca6d9b95",
   "metadata": {},
   "outputs": [],
   "source": [
    "# YOUR CODE"
   ]
  },
  {
   "cell_type": "markdown",
   "id": "b02a3788",
   "metadata": {},
   "source": [
    "---\n",
    "\n",
    "순서 5. \"main.py\"로 이동하여, \"SNS 게시글\" 프롬프트를 파일로부터 읽어오게 해보자.\n",
    "\n",
    "+ 추가 1: 상단에 from langchain_teddynote.prompts import load_prompt\n",
    "![](https://codetutorbot.blob.core.windows.net/image/st6.png)\n",
    "\n",
    "---\n",
    "\n",
    "+ 추가 2: utf-8 동작 안되는 사람은 encoding = \"cp949\"로 변경\n",
    "![](https://codetutorbot.blob.core.windows.net/image/st7.png)"
   ]
  },
  {
   "cell_type": "markdown",
   "id": "c8ab8b6c",
   "metadata": {},
   "source": [
    "+ 추가 3: 프롬프트에 다음 명령어를 입력하고 실행해보자.\n",
    "![](https://codetutorbot.blob.core.windows.net/image/st8.png)"
   ]
  },
  {
   "cell_type": "markdown",
   "id": "27e980a8",
   "metadata": {
    "vscode": {
     "languageId": "bat"
    }
   },
   "source": [
    "서울은 대한민국의 수도로, 다음과 같은 특징이 있습니다:\n",
    "\n",
    "역사와 문화: 경복궁, 창덕궁 등 역사적인 궁궐과 다양한 박물관이 있습니다.\n",
    "현대적 도시: 고층 빌딩, 쇼핑몰, IT 기업 등이 밀집해 있습니다.\n",
    "교통: 지하철과 버스 등 대중 교통이 잘 발달되어 있습니다.\n",
    "자연: 한강과 남산 등 자연 경관이 어우러져 있습니다.\n",
    "음식: 다양한 한식과 세계 각국의 음식을 즐길 수 있는 식당이 많습니다."
   ]
  },
  {
   "cell_type": "markdown",
   "id": "894aa00f",
   "metadata": {},
   "source": [
    "---\n",
    "\n",
    "※ 실습: 파일(summarization.yaml)을 생성하여, \"요약\" 프롬프트 실행해보기\n",
    "\n",
    "실행결과\n",
    "![](https://codetutorbot.blob.core.windows.net/image/st9.png)"
   ]
  },
  {
   "cell_type": "markdown",
   "id": "2dc10307",
   "metadata": {},
   "source": [
    "---\n",
    "\n",
    "### st.set_page_config\n",
    "\n",
    "링크: https://docs.streamlit.io/develop/api-reference/configuration/st.set_page_config\n",
    "\n",
    "- Streamlit 앱의 **페이지 제목**, **아이콘**, **레이아웃**, **사이드바 상태** 등을 설정할 수 있다.\n",
    "- 앱이 처음 실행될 때 적용된다.\n",
    "\n",
    "\n",
    "다음 코드를 적용하여, 페이지 정보를 추가해보자.\n",
    "![](https://codetutorbot.blob.core.windows.net/image/st10.png)"
   ]
  },
  {
   "cell_type": "markdown",
   "id": "f3b967b6",
   "metadata": {},
   "source": [
    "---\n",
    "\n",
    "### st.switch_page\n",
    "\n",
    "링크: https://docs.streamlit.io/develop/api-reference/navigation/st.switch_page\n",
    "\n",
    "- st.switch_page(\"파일 경로\") 를 호출하면, 현재 페이지 실행을 멈추고 다른 페이지로 이동한다.\n",
    "\n",
    "- 이동할 수 있는 페이지는 반드시 Streamlit 멀티페이지 앱 구조 안에 있어야 한다. (main.py 또는 pages/ 폴더 안의 파일)\n",
    "\n",
    "---\n",
    "\n",
    "순서 1. 00-MyProject 경로에 'pages'폴더를 생성한다.\n",
    "\n",
    "<파일 경로>\n",
    "\n",
    "+ 00-MyProject\n",
    "    - main.py\n",
    "    - prompts \n",
    "    - pages <= 새로 생성\n",
    "\n",
    "---\n",
    "\n",
    "순서 2. 'pages' 폴더에 'page_1.py', 'page_2.py' 파일을 생성한다.\n",
    "\n",
    "<파일 경로>\n",
    "\n",
    "+ 00-MyProject\n",
    "    - main.py\n",
    "    - prompts \n",
    "    - pages\n",
    "        - page_1.py <= 새로 생성\n",
    "        - page_2.py <= 새로 생성\n",
    "\n",
    "---\n",
    "\n",
    "순서 3. \"main.py\"에 \"main.py\", \"page_1.py\", \"page_2.py로 이동할 수 있는 3개의 버튼을 추가하자.\n",
    "\n",
    "![](https://codetutorbot.blob.core.windows.net/image/st11.png)\n"
   ]
  },
  {
   "cell_type": "markdown",
   "id": "4f292a75",
   "metadata": {},
   "source": [
    "---\n",
    "\n",
    "### st.columns(n)\n",
    "\n",
    "- 컴퓨넌트를 가로로 나란히 배치할 수 있다.\n",
    "\n",
    "다음 코드를 작성하여 버튼을 가로로 배치해보자.\n",
    "\n",
    "![](https://codetutorbot.blob.core.windows.net/image/st12.png)"
   ]
  }
 ],
 "metadata": {
  "kernelspec": {
   "display_name": "langchain-dlab-Gk6qnrIK-py3.11",
   "language": "python",
   "name": "python3"
  },
  "language_info": {
   "codemirror_mode": {
    "name": "ipython",
    "version": 3
   },
   "file_extension": ".py",
   "mimetype": "text/x-python",
   "name": "python",
   "nbconvert_exporter": "python",
   "pygments_lexer": "ipython3",
   "version": "3.11.9"
  }
 },
 "nbformat": 4,
 "nbformat_minor": 5
}
