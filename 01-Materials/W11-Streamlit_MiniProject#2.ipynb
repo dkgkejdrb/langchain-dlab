{
 "cells": [
  {
   "cell_type": "markdown",
   "id": "4ec54020",
   "metadata": {},
   "source": [
    "## 사용자 정보 및 대화 로그 기반 사용자 맞춤형 프롬프트 구성 \n",
    "- 목표: 이번 수업에서는 지난 시간에 구성한 사용자 데이터 저장기능을 활용하여 다음 기능으로 확장한다:\n",
    "    + 1) 사용자 정보를 프롬프트 체인에 반영하는 방법 학습\n",
    "    + 2) 대화 로그를 저장하고 불러오는 구조 학습\n",
    "    + 3) `example selector`를 사용하여 퓨샷 불러오기\n",
    "    + 4) 이전 대화 맥락을 프롬프트에 주입하기\n",
    "\n",
    "---\n",
    "\n",
    "### 학습 내용\n",
    "1. 사용자 정보를 프롬프트 체인에 반영\n",
    "    + 채팅 페이지 (`3_main_chat.py`)의 세션에서 유저 로그인 상태 확인\n",
    "        - 세션값이 `null` 또는 `user_id`라면 로그인 페이지 (`0_sign_in.py`)로 강제 이동\n",
    "    + `user_id`로 사용자 정보를 조회고 사용자 정보를 기반으로 프롬프트 템플릿 작성\n",
    "\n",
    "2. 대화 로그를 JSON 파일로 저장하고 불러오는 구조 학습\n",
    "    + `data/chat_logs.json` 파일을 생성하고, `users` > `user_id`를 key로 하여 대화를 저장\n",
    "\n",
    "3. `example selector`를 사용하여 예제 선택기(Example Selector)로 퓨샷 불러오기\n",
    "\n",
    "4. 이전 대화 맥락을 프롬프트에 주입하기\n",
    "\n",
    "---"
   ]
  },
  {
   "cell_type": "markdown",
   "id": "53f7c7d4",
   "metadata": {},
   "source": [
    "### 1. 사용자 정보를 프롬프트 체인에 반영하기\n",
    "+ #### 1-1. 세션에서 유저 로그인 상태 확인\n",
    "    - 세션값이 `null` 또는 `user_id`라면 로그인 페이지로 강제 이동\n",
    "    - 다음 코드를 `3_main_chat.py`에 작성"
   ]
  },
  {
   "cell_type": "code",
   "execution_count": null,
   "id": "b4957c8e",
   "metadata": {},
   "outputs": [],
   "source": [
    "# 3_main_chat.py 라이브러리 가져갈 것\n",
    "import streamlit as st\n",
    "import json\n",
    "from pathlib import Path\n",
    "from dotenv import load_dotenv\n",
    "from langchain_core.prompts import ChatPromptTemplate\n",
    "from langchain_openai import ChatOpenAI\n",
    "from langchain_core.output_parsers import StrOutputParser\n",
    "load_dotenv()"
   ]
  },
  {
   "cell_type": "markdown",
   "id": "0c9a45ea",
   "metadata": {},
   "source": [
    "![](https://codetutorbot.blob.core.windows.net/image/W9/1.png)"
   ]
  },
  {
   "cell_type": "markdown",
   "id": "6956810b",
   "metadata": {},
   "source": [
    "+ #### 1-2. `st.session_state.messages`에 대화 정보 저장 및 모든 대화 표시하기\n",
    "    - 다음 코드를 `3_main_chat.py`에 작성\n",
    "![](https://codetutorbot.blob.core.windows.net/image/W9/2.png)"
   ]
  },
  {
   "cell_type": "markdown",
   "id": "e7853a31",
   "metadata": {},
   "source": [
    "+ #### 1-3. `user_id`로 사용자 정보를 조회하고 사용자 정보를 기반으로 프롬프트 템플릿 작성\n",
    "    - 다음 코드를 `3_main_chat.py`에 작성\n",
    "\n",
    "![](https://codetutorbot.blob.core.windows.net/image/W9/4.png)"
   ]
  },
  {
   "cell_type": "markdown",
   "id": "d404d82b",
   "metadata": {},
   "source": [
    "![](https://codetutorbot.blob.core.windows.net/image/W9/5.png)"
   ]
  },
  {
   "cell_type": "markdown",
   "id": "a0dacd3f",
   "metadata": {},
   "source": [
    "### 2. 대화 로그를 JSON 파일로 저장하고 불러오는 구조 학습\n",
    "+ #### `data/chat_logs.json` 파일을 생성하고, `users` > `user_id`를 key로 하여 대화를 저장\n",
    "\n",
    "![](https://codetutorbot.blob.core.windows.net/image/W9/7.png)"
   ]
  },
  {
   "cell_type": "markdown",
   "id": "3fb962d4",
   "metadata": {},
   "source": [
    "### 3. `example selector`를 사용하여 예제 선택기(Example Selector)로 퓨샷 불러오기\n",
    "\n",
    "+ #### 3-1. 예제 선택기 구성 및 사용\n",
    "    - SemanticSimilarityExampleSelector를 사용한 의미 기반 예제 선택\n",
    "\n",
    "    - from_examples() 메서드를 활용해 Chroma 벡터스토어와 연결\n",
    "\n",
    "    - OpenAI 임베딩을 통한 유사도 측정 방식 이해\n",
    "\n",
    "+ #### 3-2. Few-Shot 프롬프트 템플릿 구성\n",
    "    - FewShotChatMessagePromptTemplate 사용 방법\n",
    "\n",
    "    - example_prompt 정의 (예제 하나의 구조 정의)\n",
    "\n",
    "    - 사용자 입력에 따라 선택된 예제를 삽입한 프롬프트 자동 구성 방식\n",
    "\n",
    "+ #### 3-2. 6. 조건 분기 처리: 예제 유무에 따른 체인 선택\n",
    "    - 대화 로그 존재 여부에 따라 create_chain 또는 create_chain_with_examples 선택"
   ]
  },
  {
   "cell_type": "code",
   "execution_count": null,
   "id": "43b9a258",
   "metadata": {},
   "outputs": [],
   "source": [
    "# 예제 선택기를 위한 라이브러리 추가\n",
    "from langchain_openai import OpenAIEmbeddings\n",
    "from langchain_core.prompts import FewShotChatMessagePromptTemplate\n",
    "from langchain_core.example_selectors import SemanticSimilarityExampleSelector\n",
    "from langchain_chroma import Chroma\n",
    "load_dotenv()"
   ]
  },
  {
   "cell_type": "markdown",
   "id": "d3618028",
   "metadata": {},
   "source": [
    "![](https://codetutorbot.blob.core.windows.net/image/W9/8.png)"
   ]
  },
  {
   "cell_type": "markdown",
   "id": "f226efcc",
   "metadata": {},
   "source": [
    "### 4. 이전 대화 맥락을 프롬프트에 주입하기\n",
    "+ #### 다음과 같이 context를 수정한다"
   ]
  },
  {
   "cell_type": "code",
   "execution_count": null,
   "id": "6937a381",
   "metadata": {},
   "outputs": [],
   "source": [
    "...\n",
    "\n",
    "def main():\n",
    "        ...\n",
    "        \n",
    "        context = {\n",
    "            # \"question\": prompt\n",
    "            # 이전까지의 두 쌍의 대화를 참조하도록 프롬프트 변경\n",
    "            \"question\": f\"Previous conversation: {st.session_state.messages[-4:]}\\nUser's response: {prompt}\\nPlease respond naturally and ask a follow-up question.\"\n",
    "        }\n",
    ".."
   ]
  }
 ],
 "metadata": {
  "kernelspec": {
   "display_name": "langchain-dlab-Gk6qnrIK-py3.11",
   "language": "python",
   "name": "python3"
  },
  "language_info": {
   "codemirror_mode": {
    "name": "ipython",
    "version": 3
   },
   "file_extension": ".py",
   "mimetype": "text/x-python",
   "name": "python",
   "nbconvert_exporter": "python",
   "pygments_lexer": "ipython3",
   "version": "3.11.9"
  }
 },
 "nbformat": 4,
 "nbformat_minor": 5
}
